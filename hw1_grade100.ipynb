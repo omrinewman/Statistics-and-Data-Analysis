{
 "cells": [
  {
   "cell_type": "markdown",
   "metadata": {
    "id": "CPjFI4iRwRrV"
   },
   "source": [
    "### IDs:\n",
    "Insert yours IDs to the cell below"
   ]
  },
  {
   "cell_type": "markdown",
   "metadata": {
    "id": "X_trixFGwRra"
   },
   "source": [
    "ID #1: 806646 - Omri Newman\n"
   ]
  },
  {
   "cell_type": "markdown",
   "metadata": {
    "id": "WZlQgsifwRra"
   },
   "source": [
    "## Read the following instructions carefully:\n",
    "\n",
    "1. This jupyter notebook contains all the step by step instructions needed for this exercise.\n",
    "1. You are free to add cells.\n",
    "1. Write your functions and your answers in this jupyter notebook only.\n",
    "1. Answers to theoretical questions should be written in **markdown cells (with $\\LaTeX$ support)**.\n",
    "1. Submit this jupyter notebook only using your ID as a filename. Not to use ZIP or RAR. For example, your Moodle submission file name should look like this (two id numbers): `123456789_987654321.ipynb`."
   ]
  },
  {
   "cell_type": "code",
   "execution_count": 73,
   "metadata": {
    "id": "XHP9MHGWtRFR"
   },
   "outputs": [],
   "source": [
    "import numpy as np\n",
    "from numpy.core.numeric import NaN\n",
    "import pandas as pd\n",
    "from collections import Counter\n",
    "from pathlib import Path \n",
    "import seaborn as sns\n",
    "import matplotlib.pyplot as plt\n",
    "from datetime import datetime\n",
    "from sklearn import metrics\n",
    "import statistics\n",
    "import random\n",
    "import math\n",
    "from scipy.stats import binom, multinomial \n",
    "from scipy import stats\n",
    "from sklearn import preprocessing\n",
    "from scipy.stats import truncnorm"
   ]
  },
  {
   "cell_type": "markdown",
   "metadata": {
    "id": "VUutZMm1wRrb"
   },
   "source": [
    "### Question 1 - Defective products"
   ]
  },
  {
   "cell_type": "markdown",
   "metadata": {
    "id": "NlE73VsgwRrb"
   },
   "source": [
    "In a manufacturing pipeline products are 3% defective. We are interested in examining a defective product to see what goes wrong on the belt. We need to ask the facility manager to send us a set of independent samples for examination."
   ]
  },
  {
   "cell_type": "markdown",
   "metadata": {
    "id": "Apg9zFBZwRrc"
   },
   "source": [
    "#### 1.A\n",
    "\n",
    "How many independent samples should we ask for in order to have a 85% probability of having at least one defective product in the batch sent? You should write a function."
   ]
  },
  {
   "cell_type": "markdown",
   "metadata": {
    "id": "dciznY763KjW"
   },
   "source": [
    "$X~Binom(n,0.03)$ \\\\\n",
    "$P(x>=1)=0.85$ \\\\\n",
    "$1-P(x<1)=0.85$ \\\\\n",
    "$1-cdf(1)=0.85$ \\\\\n",
    "$1-P(x=0)=0.85$"
   ]
  },
  {
   "cell_type": "code",
   "execution_count": 74,
   "metadata": {
    "id": "ygan98mIwRrc"
   },
   "outputs": [],
   "source": [
    "def atleast_one(p, k):\n",
    "    \"\"\"This function calculates the number of samples required in order to have \n",
    "    a 'k' probability of seeing at least one defective product in the sample \n",
    "    with a 'p' percent defective rate. \n",
    "    \n",
    "    Manipulating the PMF for n=0 yields the following closed form formula that \n",
    "    can be used generically when trying to find at least one defective product \n",
    "    with any confidence 'k' and defective rate 'p'. \n",
    "    \"\"\"\n",
    "    return math.ceil(math.log(1-k, 1-p))"
   ]
  },
  {
   "cell_type": "code",
   "execution_count": 75,
   "metadata": {
    "colab": {
     "base_uri": "https://localhost:8080/"
    },
    "id": "xS4G09JF3fjk",
    "outputId": "4699dc0c-b135-4fd3-ee44-7404e3eb6f54"
   },
   "outputs": [
    {
     "data": {
      "text/plain": [
       "63"
      ]
     },
     "execution_count": 75,
     "metadata": {},
     "output_type": "execute_result"
    }
   ],
   "source": [
    "\"\"\"X ~ Binom(n, 0.03) and we want to find 'n' such that P(x>=1)=0.85 or \n",
    "alternatively [1-P(x=0)]=0.85\"\"\"\n",
    "atleast_one(0.03, 0.85)"
   ]
  },
  {
   "cell_type": "markdown",
   "metadata": {
    "id": "X4YhTRCqwRrd"
   },
   "source": [
    "#### 1.B\n",
    "Answer this part again with the following changes: products are 4% defective and we want a 95% probability of at least one defective product in the batch."
   ]
  },
  {
   "cell_type": "markdown",
   "metadata": {
    "id": "Vi0E8d_d3pvS"
   },
   "source": [
    "$X~Binom(n,0.04)$ \\\\\n",
    "$P(x>=1)=0.95$ \\\\\n",
    "$1-P(x<1)=0.95$ \\\\\n",
    "$1-P(x=0)=0.95$ \\\\\n"
   ]
  },
  {
   "cell_type": "code",
   "execution_count": 76,
   "metadata": {
    "colab": {
     "base_uri": "https://localhost:8080/"
    },
    "id": "qHlEKm2jwRre",
    "outputId": "e004e1b5-d1ea-4506-997d-32deabae361d"
   },
   "outputs": [
    {
     "data": {
      "text/plain": [
       "74"
      ]
     },
     "execution_count": 76,
     "metadata": {},
     "output_type": "execute_result"
    }
   ],
   "source": [
    "\"\"\"X ~ Binom(n, 0.04) and we want to find 'n' such that P(x>=1)=0.95 or \n",
    "alternatively [1-P(x=0)]=0.95\"\"\"\n",
    "atleast_one(0.04, 0.95)"
   ]
  },
  {
   "cell_type": "markdown",
   "metadata": {
    "id": "Uk3FgHe3wRre"
   },
   "source": [
    "#### 1.C \n",
    "\n",
    "Consider the following cases and calculate how many independent samples are required: \n",
    "\n",
    "1. Products are 10% defective and we want a 90% probability of at least 5 defective products in the batch.\n",
    "1. Products are 30% defective and we want a 90% probability of at least 15 defective products in the batch.\n",
    "\n",
    "Explain the difference between the two results. You should use mathematical reasoning based on the properties of distributions you saw in class and visualizations in your answer."
   ]
  },
  {
   "cell_type": "code",
   "execution_count": 77,
   "metadata": {
    "id": "Xtl2BaiA30Ja"
   },
   "outputs": [],
   "source": [
    "def how_many_samples(def_rate, prob, def_count):\n",
    "  n=0\n",
    "  initiate = 1-stats.binom.cdf(def_count-1, n, def_rate)\n",
    "  while initiate < prob:\n",
    "    n+=1\n",
    "    initiate = 1-stats.binom.cdf(def_count-1, n, def_rate)\n",
    "  return n"
   ]
  },
  {
   "cell_type": "code",
   "execution_count": 78,
   "metadata": {
    "colab": {
     "base_uri": "https://localhost:8080/"
    },
    "id": "MB58xLU6XQJL",
    "outputId": "de069fcf-8260-4f8f-daa2-002fc2907547"
   },
   "outputs": [
    {
     "data": {
      "text/plain": [
       "78"
      ]
     },
     "execution_count": 78,
     "metadata": {},
     "output_type": "execute_result"
    }
   ],
   "source": [
    "how_many_samples(0.1, 0.9, 5)"
   ]
  },
  {
   "cell_type": "code",
   "execution_count": 79,
   "metadata": {
    "colab": {
     "base_uri": "https://localhost:8080/"
    },
    "id": "oWkF4mpxXOlP",
    "outputId": "3e42beb7-ccc8-47f5-f5eb-b0d4e0149f4c"
   },
   "outputs": [
    {
     "data": {
      "text/plain": [
       "64"
      ]
     },
     "execution_count": 79,
     "metadata": {},
     "output_type": "execute_result"
    }
   ],
   "source": [
    "how_many_samples(0.3, 0.9, 15)"
   ]
  },
  {
   "cell_type": "code",
   "execution_count": 80,
   "metadata": {
    "colab": {
     "base_uri": "https://localhost:8080/",
     "height": 518
    },
    "id": "uDq_D7_qXMWg",
    "outputId": "cf5e53d3-be7e-4a79-b8c7-2728d2ba1a00"
   },
   "outputs": [
    {
     "data": {
      "image/png": "[encoded data removed]",
      "text/plain": [
       "<Figure size 1008x576 with 1 Axes>"
      ]
     },
     "metadata": {},
     "output_type": "display_data"
    }
   ],
   "source": [
    "s = pd.DataFrame([1-stats.binom.cdf(14, i, 0.3) for i in range(101)]).rename({0:\"3p\"}, axis=1)\n",
    "t = pd.DataFrame([1-stats.binom.cdf(4, i, 0.1) for i in range(101)]).rename({0:\"p\"}, axis=1)\n",
    "df = t.join(s)\n",
    "# df[\"sub\"] = abs(df[\"p\"] - df[\"3p\"])\n",
    "plt.rcParams.update({'font.size': 15})\n",
    "df.plot(title=\"CDF\", xlabel=\"n\", figsize=(14,8));\n",
    "plt.axhline(y=0.9, color='purple', linestyle='-', lw=0.6)\n",
    "# plt.axhline(y=0.587, color='red', linestyle='--', lw=0.6)\n",
    "plt.axvline(x=51, color='red', linestyle='--', lw=0.6);"
   ]
  },
  {
   "cell_type": "markdown",
   "metadata": {
    "id": "yEtBjMhGXKp6"
   },
   "source": [
    "The inflection point in the graph above shows us that at $n=51$, the probabilities of seeing at least $5$ and $15$ defective products for the two binomial distributions are the same, with probability $0.587$. Before this point, the first case will achieve a higher probability sooner of seeing $5$ defective products before the second case sees $15$ defective products. But after this point, the second case will achieve a higher probability sooner of seeing $15$ defective products before the first case sees $5$. To gain intuition for the relationship between defective rate and the number of defective samples, consider the plots below."
   ]
  },
  {
   "cell_type": "code",
   "execution_count": 81,
   "metadata": {
    "colab": {
     "base_uri": "https://localhost:8080/",
     "height": 316
    },
    "id": "eeSAw_z-XIuP",
    "outputId": "bfb9bd33-d4e6-40eb-b493-5ef3ffeecf18"
   },
   "outputs": [
    {
     "data": {
      "image/png": "[encoded data removed]",
      "text/plain": [
       "<Figure size 432x288 with 1 Axes>"
      ]
     },
     "metadata": {},
     "output_type": "display_data"
    }
   ],
   "source": [
    "s = pd.DataFrame([1-stats.binom.cdf(4, i, 0.3) for i in range(101)]).rename({0:\"3p\"}, axis=1)\n",
    "t = pd.DataFrame([1-stats.binom.cdf(4, i, 0.1) for i in range(101)]).rename({0:\"p\"}, axis=1)\n",
    "df = t.join(s)\n",
    "# df[\"sub\"] = abs(df[\"p\"] - df[\"3p\"])\n",
    "plt.rcParams.update({'font.size': 10})\n",
    "df.plot(title=\"CDF \\n Five defective products\", xlabel=\"n\");\n",
    "plt.axhline(y=0.9, color='purple', linestyle='-', lw=0.6);\n",
    "# plt.axhline(y=0.587, color='red', linestyle='--', lw=0.6)\n",
    "# plt.axvline(x=51, color='red', linestyle='--', lw=0.6)"
   ]
  },
  {
   "cell_type": "markdown",
   "metadata": {
    "id": "iVrOhn6tMGOQ"
   },
   "source": [
    "The number of samples required to reach a $90$% confidence of seeing at least five defective products in the sample is much higher when the defective rate is lower and vice versa."
   ]
  },
  {
   "cell_type": "code",
   "execution_count": 82,
   "metadata": {
    "colab": {
     "base_uri": "https://localhost:8080/",
     "height": 316
    },
    "id": "NvZY_5cdXDXO",
    "outputId": "0fa1f79f-9df2-455e-e856-4731a8d6f50b"
   },
   "outputs": [
    {
     "data": {
      "image/png": "[encoded data removed]",
      "text/plain": [
       "<Figure size 432x288 with 1 Axes>"
      ]
     },
     "metadata": {},
     "output_type": "display_data"
    }
   ],
   "source": [
    "s = pd.DataFrame([1-stats.binom.cdf(14, i, 0.3) for i in range(301)]).rename({0:\"3p\"}, axis=1)\n",
    "t = pd.DataFrame([1-stats.binom.cdf(14, i, 0.1) for i in range(301)]).rename({0:\"p\"}, axis=1)\n",
    "df = t.join(s)\n",
    "# df[\"sub\"] = abs(df[\"p\"] - df[\"3p\"])\n",
    "plt.rcParams.update({'font.size': 10})\n",
    "df.plot(title=\"CDF \\n Fifteen defective products\", xlabel=\"n\");\n",
    "plt.axhline(y=0.9, color='purple', linestyle='-', lw=0.6);\n",
    "# plt.axhline(y=0.587, color='red', linestyle='--', lw=0.6)\n",
    "# plt.axvline(x=51, color='red', linestyle='--', lw=0.6)"
   ]
  },
  {
   "cell_type": "markdown",
   "metadata": {
    "id": "vuzP3r5gMZ-B"
   },
   "source": [
    "The number of samples required to reach a $90$% confidence of seeing at least fifteen defective products in the sample is higher when the defective rate is lower and it's almost three times higher when compared to seeing at least five samples in the previous plot."
   ]
  },
  {
   "cell_type": "code",
   "execution_count": 83,
   "metadata": {
    "colab": {
     "base_uri": "https://localhost:8080/",
     "height": 316
    },
    "id": "5GpnS9Y5W_fG",
    "outputId": "34ab5459-5a7d-4c31-919b-da6ff832abdf"
   },
   "outputs": [
    {
     "data": {
      "image/png": "[encoded data removed]",
      "text/plain": [
       "<Figure size 432x288 with 1 Axes>"
      ]
     },
     "metadata": {},
     "output_type": "display_data"
    }
   ],
   "source": [
    "s = pd.DataFrame([1-stats.binom.cdf(14, i, 0.1) for i in range(250)]).rename({0:\"3k\"}, axis=1)\n",
    "t = pd.DataFrame([1-stats.binom.cdf(4, i, 0.1) for i in range(250)]).rename({0:\"k\"}, axis=1)\n",
    "df = t.join(s)\n",
    "# df[\"sub\"] = abs(df[\"p\"] - df[\"3p\"])\n",
    "plt.rcParams.update({'font.size': 10})\n",
    "df.plot(title=\"CDF \\n Fix defective rate at 10%\", xlabel=\"n\");\n",
    "plt.axhline(y=0.9, color='purple', linestyle='-', lw=0.6);\n",
    "# plt.axhline(y=0.587, color='red', linestyle='--', lw=0.6)\n",
    "# plt.axvline(x=51, color='red', linestyle='--', lw=0.6)"
   ]
  },
  {
   "cell_type": "markdown",
   "metadata": {
    "id": "-S-6LQMjMoh9"
   },
   "source": [
    "The number of samples required to reach a $90$% confidence of seeing at least five versus fifteen defective products in the sample when fixing the defective rate at $10$% is higher for fifteen than five."
   ]
  },
  {
   "cell_type": "code",
   "execution_count": 84,
   "metadata": {
    "colab": {
     "base_uri": "https://localhost:8080/",
     "height": 316
    },
    "id": "o-G28XhaW1dN",
    "outputId": "0b1ae2a0-6583-45cd-cd6b-9f3b8022680e"
   },
   "outputs": [
    {
     "data": {
      "image/png": "[encoded data removed]",
      "text/plain": [
       "<Figure size 432x288 with 1 Axes>"
      ]
     },
     "metadata": {},
     "output_type": "display_data"
    }
   ],
   "source": [
    "s = pd.DataFrame([1-stats.binom.cdf(14, i, 0.3) for i in range(101)]).rename({0:\"3k\"}, axis=1)\n",
    "t = pd.DataFrame([1-stats.binom.cdf(4, i, 0.3) for i in range(101)]).rename({0:\"k\"}, axis=1)\n",
    "df = t.join(s)\n",
    "# df[\"sub\"] = abs(df[\"p\"] - df[\"3p\"])\n",
    "plt.rcParams.update({'font.size': 10})\n",
    "df.plot(title=\"CDF \\n Fix defective rate at 30%\", xlabel=\"n\");\n",
    "plt.axhline(y=0.9, color='purple', linestyle='-', lw=0.6);\n",
    "# plt.axhline(y=0.587, color='red', linestyle='--', lw=0.6)\n",
    "# plt.axvline(x=51, color='red', linestyle='--', lw=0.6)"
   ]
  },
  {
   "cell_type": "markdown",
   "metadata": {
    "id": "OSjE019RM3Yn"
   },
   "source": [
    "The number of samples required to reach a $90$% confidence of seeing at least five versus fifteen defective products in the sample when fixing the defective rate at $30$% is higher for fifteen than five. But the number of samples overall is lower than a defective rate of $10$% as seen above."
   ]
  },
  {
   "cell_type": "markdown",
   "metadata": {
    "id": "5zuQKBgIWuM8"
   },
   "source": [
    "What we saw in our original plot is a combination of the previous four. The number of samples $n$ required to see $x$ defective products with 90% confidence depends on $x$ as well as the defective rate $α$. \\\\\n",
    "Both $α$ and $x$ affect the number of samples, the question is at what point does one overcome the affects of the other? \\\\\n",
    "The inflection point $n=51$ in our case with $α=[0.1,0.3]$ and $x=[5,15]$ tells us exactly when these values overcome eachother. \\\\\n"
   ]
  },
  {
   "cell_type": "markdown",
   "metadata": {
    "id": "9BX_KnTqwRrf"
   },
   "source": [
    "### Question 2 - Rent distributions in Randomistan"
   ]
  },
  {
   "cell_type": "markdown",
   "metadata": {
    "id": "AvnlV47ZwRrf"
   },
   "source": [
    "The state of Randomistan conducted a survey to study the distribution of rent paid in two neighboring towns, Stochastic Heights and Random Grove, to be denoted SH and RG.<br> \n",
    "\n",
    "Here are some findings of the survey:\n",
    "* The population of SH and RG is 16,000 and 22,000 respectively. <br>\n",
    "* The mean rent in SH and RG is 6300RCU and 4200RCU respectively.\n",
    "* The median rent is 4600RCU in both towns.\n",
    "* The IQR of the rent is smaller in SH than in RG.\n",
    "\n",
    "All data generated in this question needs to be consistent with these findings."
   ]
  },
  {
   "cell_type": "markdown",
   "metadata": {
    "id": "p_zUaVXkwRrf"
   },
   "source": [
    "#### 2.A\n",
    "Draw histograms that describe 2 different scenarii of possible distributions of rent in the two towns.\u000b",
    "\n",
    "Your histograms should:<br>\n",
    "* Use bins of 100RCU each.\n",
    "* Have at least 10 non zero bins."
   ]
  },
  {
   "cell_type": "markdown",
   "metadata": {
    "id": "sbznjUx44EzR"
   },
   "source": [
    "### Our function creates distribution with desired properties.\n",
    "\n",
    "We create 3 arrays and concatenate them - middle array contains 2 numbers median+1 and median-1 such that the median is the desired value.\n",
    "\n",
    "arr1 and arr2 are initiated randomly according to the desired n - to get the final array to have the required mean, we first calculate what the total sum has to be: mean*n.\n",
    "\n",
    "We divide that difference by 100 and subtract that amount from the k largest elements to get the correct mean.\n",
    "\n",
    "To manipulate the IQR, we change the upper limit of arr2 (a larger range) -> the IQR approximates the amount of spread in the middle half of the data, so by increasing the spread in the upper half of the data, the IQR will also increase.\n",
    "\n"
   ]
  },
  {
   "cell_type": "code",
   "execution_count": 85,
   "metadata": {
    "colab": {
     "base_uri": "https://localhost:8080/",
     "height": 1000
    },
    "id": "9mk0laSHwRrg",
    "outputId": "afef8adc-9278-42a9-b7bf-3a0dd7d19a4d"
   },
   "outputs": [
    {
     "name": "stdout",
     "output_type": "stream",
     "text": [
      "sh1 mean: 6300.0\n",
      "sh1 median: 4600.0\n",
      "sh1 IQR: 3483.25\n",
      "sh1 variance: 33075687.24864598\n",
      "sh2 mean: 6300.0\n",
      "sh2 median: 4600.0\n",
      "sh2 IQR: 3482.25\n",
      "sh2 variance: 32927681.84584892\n",
      "rg1 mean: 4200.0\n",
      "rg1 median: 4600.0\n",
      "rg1 IQR: 3823.2982\n",
      "rg1 variance: 4774831.954255899\n",
      "rg2 mean: 4200.0\n",
      "rg2 median: 4600.0\n",
      "rg2 IQR: 3813.1412499999997\n",
      "rg2 variance: 4717104.654289317\n",
      "The IQR of the rent is smaller in SH1 than in RG1: True\n",
      "The IQR of the rent is smaller in SH2 than in RG2: True\n"
     ]
    },
    {
     "data": {
      "text/plain": [
       "Text(0.5, 0.98, 'Scenario 2')"
      ]
     },
     "execution_count": 85,
     "metadata": {},
     "output_type": "execute_result"
    },
    {
     "data": {
      "image/png": "[encoded data removed]",
      "text/plain": [
       "<Figure size 864x432 with 2 Axes>"
      ]
     },
     "metadata": {},
     "output_type": "display_data"
    },
    {
     "data": {
      "image/png": "[encoded data removed]",
      "text/plain": [
       "<Figure size 864x432 with 2 Axes>"
      ]
     },
     "metadata": {},
     "output_type": "display_data"
    }
   ],
   "source": [
    "\"\"\"Create Distributions\"\"\"\n",
    "n_sh = 16000\n",
    "n_rg = 22000\n",
    "mean_sh = 6300\n",
    "mean_rg = 4200\n",
    "median = 4600\n",
    "\n",
    "def create_dist(n, mean, median, upper_limit, seed, k):\n",
    "    \"\"\"\n",
    "    Function to create distribution with desired properties.\n",
    "    n = the population\n",
    "    mean = the desired mean\n",
    "    median = the desired median \n",
    "    upper limit = upper limit of the third array, increasing this will increase the IQR\n",
    "    seed = random seed\n",
    "    \"\"\"\n",
    "    np.random.seed(seed)\n",
    "    arr1 = np.random.randint(0, median-1, (n//2)-1).astype(np.float)\n",
    "    arr2 = np.random.randint(median+1, upper_limit, (n//2)-1).astype(np.float)\n",
    "    mid = [median-1, median+1] \n",
    "    #difference between the sum of both arrays and the mean*n \n",
    "    i = ((np.sum(arr1 + arr2) + median*2) - (mean * n)) / k\n",
    "    sorted = np.argsort(arr2) #sort the array\n",
    "    arr2[sorted[-k:]] -= i #subtract the difference from our 100 largest numbers \n",
    "    return np.concatenate((arr1, mid, arr2))\n",
    "\n",
    "sh1 = create_dist(n_sh, mean_sh, median, 7000, 222, 3500)\n",
    "print(\"sh1 mean:\", np.mean(sh1))\n",
    "print(\"sh1 median:\",np.median(sh1))\n",
    "print(\"sh1 IQR:\",np.percentile(sh1,75) - np.percentile(sh1,25))\n",
    "print(\"sh1 variance:\",np.var(sh1))\n",
    "\n",
    "sh2 = create_dist(n_sh, mean_sh, median, 7000, 223, 3500)\n",
    "print(\"sh2 mean:\", np.mean(sh2))\n",
    "print(\"sh2 median:\",np.median(sh2))\n",
    "print(\"sh2 IQR:\",np.percentile(sh2,75) - np.percentile(sh1,25))\n",
    "print(\"sh2 variance:\",np.var(sh2))\n",
    "\n",
    "rg1 = create_dist(n_rg, mean_rg, median, 8000, 222, 5000)\n",
    "print(\"rg1 mean:\", np.mean(rg1))\n",
    "print(\"rg1 median:\",np.median(rg1))\n",
    "print(\"rg1 IQR:\",np.percentile(rg1,75) - np.percentile(rg1,25))\n",
    "print(\"rg1 variance:\",np.var(rg1))\n",
    "\n",
    "rg2 = create_dist(n_rg, mean_rg, median, 8000, 223, 5000)\n",
    "print(\"rg2 mean:\", np.mean(rg2))\n",
    "print(\"rg2 median:\",np.median(rg2))\n",
    "print(\"rg2 IQR:\",np.percentile(rg2,75) - np.percentile(rg1,25))\n",
    "print(\"rg2 variance:\",np.var(rg2))\n",
    "\n",
    "iqr_sh1 = np.percentile(sh1,75) - np.percentile(sh1,25)\n",
    "iqr_rg1 = np.percentile(rg1,75) - np.percentile(rg1,25)\n",
    "print(\"The IQR of the rent is smaller in SH1 than in RG1:\", iqr_sh1<iqr_rg1)\n",
    "iqr_sh2 = np.percentile(sh2,75) - np.percentile(sh2,25)\n",
    "iqr_rg2 = np.percentile(rg2,75) - np.percentile(rg2,25)\n",
    "print(\"The IQR of the rent is smaller in SH2 than in RG2:\", iqr_sh1<iqr_rg1)\n",
    "\n",
    "f, axs = plt.subplots(1,2,\n",
    "                      figsize=(12,6),\n",
    "                      sharey=True)\n",
    "\n",
    "sns.set_theme(style=\"whitegrid\", palette='bright')\n",
    "sns.histplot(sh1, binwidth = 100, edgecolor='k', ax=axs[0])\n",
    "sns.histplot(rg1, binwidth = 100, edgecolor='k', ax=axs[1])\n",
    "axs[0].set(ylabel= 'Count', xlabel='Rent (RCU)', title='Stochastic Heights')\n",
    "axs[1].set(xlabel='Rent (RCU)', title='Random Grove')\n",
    "f.suptitle('Scenario 1')\n",
    "\n",
    "f, axs = plt.subplots(1,2,\n",
    "                      figsize=(12,6),\n",
    "                      sharey=True)\n",
    "\n",
    "sns.set_theme(style=\"whitegrid\", palette='bright')\n",
    "sns.histplot(sh2, binwidth = 100, edgecolor='k', ax=axs[0])\n",
    "sns.histplot(rg2, binwidth = 100, edgecolor='k', ax=axs[1])\n",
    "axs[0].set(ylabel= 'Count', xlabel='Rent (RCU)', title='Stochastic Heights')\n",
    "axs[1].set(xlabel='Rent (RCU)', title='Random Grove')\n",
    "f.suptitle('Scenario 2')"
   ]
  },
  {
   "cell_type": "markdown",
   "metadata": {
    "id": "-lAPhaQIwRrg"
   },
   "source": [
    "#### 2.B\n",
    "Draw a histogram of a third scenario with the same properties. <br>\n",
    "In addition, in this scenario the rent in SH should have a higher variance than the rent in RG."
   ]
  },
  {
   "cell_type": "markdown",
   "metadata": {
    "id": "cFve0rYQ_YlM"
   },
   "source": [
    "### Want SH to have a smaller IQR but a higher variance than RG.\n",
    "\n",
    "IQR is robust to outliers while variance is not.\n",
    "So, we use the k parameter (number of elements which we use to shift the mean in the function) - the greater k is the higher the variance will be, and the IQR will not change if we limit k to be from the fourth quartile (n-(n/4))."
   ]
  },
  {
   "cell_type": "code",
   "execution_count": 86,
   "metadata": {
    "colab": {
     "base_uri": "https://localhost:8080/",
     "height": 625
    },
    "id": "U0fLDmf5wRrg",
    "outputId": "ec220f48-2ee6-41c3-b828-7234ad22c0a2"
   },
   "outputs": [
    {
     "name": "stdout",
     "output_type": "stream",
     "text": [
      "sh1 mean: 6300.0\n",
      "sh1 median: 4600.0\n",
      "sh1 IQR: 3483.25\n",
      "sh1 variance: 92435431.6346697\n",
      "rg1 mean: 4200.0\n",
      "rg1 median: 4600.0\n",
      "rg1 IQR: 3823.2982\n",
      "rg1 variance: 4774831.954255899\n",
      "Rent in SH should have a higher variance than the rent in RG: True\n",
      "The IQR of the rent is smaller in SH than in RG: True\n"
     ]
    },
    {
     "data": {
      "text/plain": [
       "Text(0.5, 0.98, 'Scenario 1')"
      ]
     },
     "execution_count": 86,
     "metadata": {},
     "output_type": "execute_result"
    },
    {
     "data": {
      "image/png": "[encoded data removed]",
      "text/plain": [
       "<Figure size 864x432 with 2 Axes>"
      ]
     },
     "metadata": {},
     "output_type": "display_data"
    }
   ],
   "source": [
    "n_sh = 16000\n",
    "n_rg = 22000\n",
    "mean_sh = 6300\n",
    "mean_rg = 4200\n",
    "median = 4600\n",
    "\n",
    "def create_dist(n, mean, median, upper_limit, seed, k):\n",
    "    \"\"\"\n",
    "    Function to create distribution with desired properties.\n",
    "    n = the population\n",
    "    mean = the desired mean\n",
    "    median = the desired median \n",
    "    upper limit = upper limit of the third array, increasing this will increase the IQR\n",
    "    seed = random seed\n",
    "    k = number of largest elements in array that we subtract the difference from the mean from, higher k = higher variance\n",
    "    note : k should not exceed (n-(n/4))\n",
    "    \"\"\"\n",
    "    np.random.seed(seed)\n",
    "    arr1 = np.random.randint(0, median-1, (n//2)-1).astype(np.float)\n",
    "    arr2 = np.random.randint(median+1, upper_limit, (n//2)-1).astype(np.float)\n",
    "    mid = [median-1, median+1] \n",
    "    i = ((np.sum(arr1 + arr2) + median*2) - (mean * n)) / k #difference between the sum of both arrays and the mean*n\n",
    "    sorted = np.argsort(arr2) #sort the array\n",
    "    arr2[sorted[-k:]] -= i #subtract the difference from our 100 largest numbers \n",
    "    return np.concatenate((arr1, mid, arr2))\n",
    "\n",
    "sh1 = create_dist(n_sh, mean_sh, median, 7000, 222, 1000)\n",
    "print(\"sh1 mean:\", np.mean(sh1))\n",
    "print(\"sh1 median:\",np.median(sh1))\n",
    "iqr_sh1 = np.percentile(sh1,75) - np.percentile(sh1,25)\n",
    "print(\"sh1 IQR:\", iqr_sh1)\n",
    "print(\"sh1 variance:\",np.var(sh1))\n",
    "\n",
    "rg1 = create_dist(n_rg, mean_rg, median, 8000, 222, 5000)\n",
    "print(\"rg1 mean:\", np.mean(rg1))\n",
    "print(\"rg1 median:\",np.median(rg1))\n",
    "iqr_rg1 = np.percentile(rg1,75) - np.percentile(rg1,25)\n",
    "print(\"rg1 IQR:\", iqr_rg1)\n",
    "print(\"rg1 variance:\",np.var(rg1))\n",
    "\n",
    "print(\"Rent in SH should have a higher variance than the rent in RG:\", np.var(sh1)>np.var(rg1))\n",
    "print(\"The IQR of the rent is smaller in SH than in RG:\", iqr_sh1<iqr_rg1)\n",
    "\n",
    "f, axs = plt.subplots(1,2,\n",
    "                      figsize=(12,6),\n",
    "                      sharey=True)\n",
    "\n",
    "sns.set_theme(style=\"whitegrid\", palette='bright')\n",
    "sns.histplot(sh1, binwidth = 100, edgecolor='k', ax=axs[0])\n",
    "sns.histplot(rg1, binwidth = 100, edgecolor='k', ax=axs[1])\n",
    "axs[0].set(ylabel= 'Count', xlabel='Rent (RCU)', title='Stochastic Heights')\n",
    "axs[1].set(xlabel='Rent (RCU)', title='Random Grove')\n",
    "f.suptitle('Scenario 1')\n"
   ]
  },
  {
   "cell_type": "markdown",
   "metadata": {
    "id": "CRNSSsugwRrg"
   },
   "source": [
    "The survey also examined the per household income (PHI) in these two places.<br>\n",
    "\n",
    "It found that:<br>\n",
    "* The mean of PHI in SH is 12500 and in RG is 8500.\n",
    "* The median is 12000 in SH and 8000 in RG.\n",
    "* The covariance of the rent and the PHI was observed to be as in the formula below with $\\alpha=97\\%$ and $\\alpha=89\\%$ in SH and in RG respectively.<br><br>\n",
    "$$Cov(rent, PHI) = \\alpha * \\sqrt{Var(rent)} * \\sqrt{Var(PHI)}$$\n",
    "\n",
    "#### 2.C\n",
    "Produce rent and PHI data for the two cities, that is consistent with these findings. The covariances in your data can deviate by up to 1% from the numbers given $\\alpha$."
   ]
  },
  {
   "cell_type": "markdown",
   "metadata": {
    "id": "QCcwDcUIheGr"
   },
   "source": [
    "We created a new function that also takes in an std parameter to set the standard deviation of each array.\n",
    "By fixing the standard deviation of the rent and and manipulating the standard deviation of the PHI, we were able to create distributions with the desired covariance between rent and PHI."
   ]
  },
  {
   "cell_type": "code",
   "execution_count": 87,
   "metadata": {
    "colab": {
     "base_uri": "https://localhost:8080/"
    },
    "id": "PP-LqlvpwRrh",
    "outputId": "7bd023a7-1ed4-4c26-f144-827fec1f0dbf"
   },
   "outputs": [
    {
     "name": "stdout",
     "output_type": "stream",
     "text": [
      "Stochastic Heights Alpha of covariance between rent and PHI is: 96.66 %\n",
      "This is within the desired range: True\n",
      "Random Grove Alpha of covariance between rent and PHI is: 89.28 %\n",
      "This is within the desired range: True\n",
      "sh mean: 12499.999999999998\n",
      "sh median: 12000.0\n",
      "rg mean: 8500.0\n",
      "rg median: 8000.0\n",
      "Rent in SH should have a higher variance than the rent in RG: True\n",
      "The IQR of the rent is smaller in SH than in RG: True\n"
     ]
    }
   ],
   "source": [
    "n_sh = 16000\n",
    "n_rg = 22000\n",
    "mean_sh_phi = 12500\n",
    "mean_rg_phi = 8500\n",
    "median_sh_phi = 12000\n",
    "median_rg_phi = 8000\n",
    "mean_sh_rent = 6300\n",
    "mean_rg_rent = 4200\n",
    "median_rent = 4600\n",
    "\n",
    "def get_normal(mean=0, std=1, lower=0, upper=10):\n",
    "    # fn that uses truncnorm to sample randomly from a normal distribution, bounded by a given range\n",
    "    return truncnorm((lower - mean) / std, (upper - mean) / std, loc=mean, scale=std)\n",
    "    \n",
    "# edited function to also take in std parameter\n",
    "def create_dist_2(n, mean, median, upper_limit, seed, k, std):\n",
    "    \"\"\"\n",
    "    Function to create distribution with desired properties.\n",
    "    n = the population\n",
    "    mean = the desired mean\n",
    "    median = the desired median \n",
    "    upper limit = upper limit of the third array, increasing this will increase the IQR\n",
    "    seed = random seed\n",
    "    k = number of largest elements in array that we subtract the difference from the mean from, higher k = higher variance\n",
    "    std = standard deviation of each array\n",
    "    note : k should not exceed (n-(n/4))\n",
    "    \"\"\"\n",
    "    np.random.seed(seed)\n",
    "    arr1 = get_normal(mean=median//2, std = std, lower = 0, upper=median-1).rvs((n//2)-1).astype(np.float)\n",
    "    arr2 = get_normal(mean=median//2, std = std, lower = median+1, upper=upper_limit).rvs((n//2)-1).astype(np.float)\n",
    "    mid = [median-1, median+1] \n",
    "    i = ((np.sum(arr1 + arr2) + median*2) - (mean * n)) / k #difference between the sum of both arrays and the mean*n\n",
    "    sorted = np.argsort(arr2) #sort the array\n",
    "    arr2[sorted[-k:]] -= i #subtract the difference from our 100 largest numbers \n",
    "    return np.concatenate((arr1, mid, arr2))\n",
    "\n",
    "\"\"\" Create distributions\"\"\"\n",
    "sh_phi = create_dist_2(n_sh, mean_sh_phi, median_sh_phi, 20000, 222, 1000, 7000)\n",
    "sh_rent = create_dist_2(n_sh, mean_sh_rent, median_rent, 7000, 222, 1000, 5000)\n",
    "\n",
    "rg_phi = create_dist_2(n_rg, mean_rg_phi, median_rg_phi, 12000, 222, 5000, 1000) #manipulating phi std for both sh and rg to get desired covariance\n",
    "rg_rent = create_dist_2(n_rg, mean_rg_rent, median_rent, 8000, 222, 5000, 3000) #fixing rent std for both sh and rg\n",
    "\n",
    "\"\"\" check if covariance correct \"\"\"\n",
    "sh_goal = 0.97 * np.std(sh_rent) * np.std(sh_phi)\n",
    "rg_goal = 0.89 * np.std(rg_rent) * np.std(rg_phi)\n",
    "\n",
    "def check_cov(rent, phi, goal, city_name):\n",
    "    alpha = np.round(100*(np.cov(rent, phi)[0][1]/(np.std(rent)*np.std(phi))),2) # isolate for alpha\n",
    "    correct = np.cov(rent, phi)[0][1] >= goal * 0.99 and np.cov(rent, phi)[0][1] <= goal * 1.01\n",
    "    print(city_name, 'Alpha of covariance between rent and PHI is:', alpha,'%') \n",
    "    print(\"This is within the desired range:\", correct)\n",
    "\n",
    "check_cov(sh_rent, sh_phi, sh_goal, \"Stochastic Heights\")\n",
    "check_cov(rg_rent, rg_phi, rg_goal, \"Random Grove\")\n",
    "\n",
    "\"\"\"check all other other requirements still hold\"\"\"\n",
    "print(\"sh mean:\", np.mean(sh_phi))\n",
    "print(\"sh median:\",np.median(sh_phi))\n",
    "print(\"rg mean:\", np.mean(rg_phi))\n",
    "print(\"rg median:\",np.median(rg_phi))\n",
    "iqr_sh = np.percentile(sh_rent,75) - np.percentile(sh_rent,25)\n",
    "iqr_rg = np.percentile(rg_rent,75) - np.percentile(rg_rent,25)\n",
    "print(\"Rent in SH should have a higher variance than the rent in RG:\", np.var(sh_rent)>np.var(rg_rent))\n",
    "print(\"The IQR of the rent is smaller in SH than in RG:\", iqr_sh<iqr_rg)\n"
   ]
  },
  {
   "cell_type": "markdown",
   "metadata": {
    "id": "IR0NfCc3wRrh"
   },
   "source": [
    "#### 2.D\n",
    "Produce two heatmaps that describe these two bivariate joint distributions. Make sure you carefully consider the selected binning resolution."
   ]
  },
  {
   "cell_type": "code",
   "execution_count": 99,
   "metadata": {
    "colab": {
     "base_uri": "https://localhost:8080/",
     "height": 411
    },
    "id": "pfrp8VzY1ZHQ",
    "outputId": "7245e088-444f-411f-b63c-802b34df430b"
   },
   "outputs": [
    {
     "data": {
      "text/plain": [
       "<matplotlib.colorbar.Colorbar at 0x7f7bec6f9450>"
      ]
     },
     "execution_count": 99,
     "metadata": {},
     "output_type": "execute_result"
    },
    {
     "data": {
      "image/png": "[encoded data removed]",
      "text/plain": [
       "<Figure size 432x432 with 2 Axes>"
      ]
     },
     "metadata": {},
     "output_type": "display_data"
    }
   ],
   "source": [
    "# group data into 5 bins\n",
    "f, ax = plt.subplots(1,1, figsize=(6,6))\n",
    "h = ax.hist2d(x=sh_rent,y=sh_phi,cmap = 'Greens',bins=5)\n",
    "ax.set(xlabel='SH Rent')\n",
    "ax.set(ylabel='SH PHI')\n",
    "f.colorbar(h[3], ax=ax)\n"
   ]
  },
  {
   "cell_type": "code",
   "execution_count": 89,
   "metadata": {
    "colab": {
     "base_uri": "https://localhost:8080/",
     "height": 411
    },
    "id": "wnJSQM6Q_pDt",
    "outputId": "a724ed93-36f2-4c8a-e3e1-1f2dfc9661d5"
   },
   "outputs": [
    {
     "data": {
      "text/plain": [
       "<matplotlib.colorbar.Colorbar at 0x7f7becc8ea50>"
      ]
     },
     "execution_count": 89,
     "metadata": {},
     "output_type": "execute_result"
    },
    {
     "data": {
      "image/png": "[encoded data removed]",
      "text/plain": [
       "<Figure size 432x432 with 2 Axes>"
      ]
     },
     "metadata": {},
     "output_type": "display_data"
    }
   ],
   "source": [
    "f, ax = plt.subplots(1,1, figsize=(6,6))\n",
    "h = ax.hist2d(x=rg_rent,y=rg_phi,cmap = 'Greens',bins=5)\n",
    "ax.set(xlabel='RG Rent')\n",
    "ax.set(ylabel='RG PHI')\n",
    "f.colorbar(h[3], ax=ax)"
   ]
  },
  {
   "cell_type": "markdown",
   "metadata": {
    "id": "pFnXobHCwRrh"
   },
   "source": [
    "### Question 3 - Multinomial Distributions\n",
    "\n",
    "1. Let $X \\sim Multinomial(n,\\vec{p})$ be a multinomial random variable where $n=20$ and $\\vec{p} = (0.2,  0.1,  0.1,  0.1,  0.2,  0.3)$. Note that X is a vector of counts.\n",
    "\n",
    "\n",
    "2. Let $Y = X_2 + X_3 + X_4$ be a random variable.\n",
    "\n",
    "\n",
    "3. Create $k=100$ experiments where $X$ is sampled using Python. Calculate the empirical centralized third moment of $Y$ based on your $k$ experiments.\n",
    "\n",
    "\n",
    "4. Compare your result to the calculation in class for the centralized third moment of the **binomial** distribution and explain your observation."
   ]
  },
  {
   "cell_type": "code",
   "execution_count": 102,
   "metadata": {
    "colab": {
     "base_uri": "https://localhost:8080/"
    },
    "id": "BOnnuAC0wRri",
    "outputId": "ed6798cb-733b-47f8-d146-01d05813d827"
   },
   "outputs": [
    {
     "name": "stdout",
     "output_type": "stream",
     "text": [
      "[[3 2 1]]\n"
     ]
    }
   ],
   "source": [
    "# create multinomial RV X\n",
    "X = multinomial(20, [0.2,0.1,0.1,0.1,0.2,0.3]) \n",
    "\n",
    "# set Y= X_2 + X_3 + X_4\n",
    "Y = X.rvs()[:,1:4]"
   ]
  },
  {
   "cell_type": "code",
   "execution_count": 100,
   "metadata": {
    "colab": {
     "base_uri": "https://localhost:8080/"
    },
    "id": "r55YbLZ-seLw",
    "outputId": "cc1a963f-28a3-42b6-a829-ae32dfb3c0a5"
   },
   "outputs": [
    {
     "name": "stdout",
     "output_type": "stream",
     "text": [
      "2.1226559999999997\n"
     ]
    }
   ],
   "source": [
    "# create 100 experiments where X is sampled\n",
    "k = 100\n",
    "Y = X.rvs(k)[:,1:4]\n",
    "\n",
    "# calculate empirical centralized third moment of  Y based on k experiments\n",
    "empirical_third_moment = np.mean((Y.sum(axis=1) - np.mean(Y.sum(axis=1)))**3)\n",
    "print(empirical_third_moment)"
   ]
  },
  {
   "cell_type": "markdown",
   "metadata": {
    "id": "hog1Lwvjsk6f"
   },
   "source": [
    "Calculation from class:\n",
    "\n",
    "$\\gamma ^3 = E\\Bigg[\\Bigg(\\sum_{i=1}^{n} (X_i - p)\\Bigg)^3 \\Bigg]$\n",
    "\n",
    "$\\gamma ^3 = np(1-p)(1-2p)$\n",
    "\n",
    "p is the sum of p's"
   ]
  },
  {
   "cell_type": "code",
   "execution_count": 94,
   "metadata": {
    "colab": {
     "base_uri": "https://localhost:8080/"
    },
    "id": "Mto-coSKsltT",
    "outputId": "e3579c36-c85d-49cd-d3ca-36a64075b1b2"
   },
   "outputs": [
    {
     "name": "stdout",
     "output_type": "stream",
     "text": [
      "1.6799999999999997\n"
     ]
    }
   ],
   "source": [
    "class_formula = 20*0.3*(1-0.3)*(1-2*0.3)\n",
    "print(class_formula)"
   ]
  },
  {
   "cell_type": "markdown",
   "metadata": {
    "id": "sucPKHrItlyY"
   },
   "source": [
    "The empirical centralized third moment of  $Y$  based on our 100 experiments is not the same as the theoretical empirical third moment of the binomial dsitribution that was presented in class.\n",
    "The empirical centralized third moment is based on our limited samples of the distribution, and changes accordingly when we sample randomly.\n",
    "The theoretical centralized third moment is what we would expect our data to converge to if we run the experiment an infinite number of times."
   ]
  },
  {
   "cell_type": "code",
   "execution_count": 95,
   "metadata": {
    "colab": {
     "base_uri": "https://localhost:8080/",
     "height": 573
    },
    "id": "ZQof_wIru97v",
    "outputId": "aac3cbd9-84ba-43c4-d625-f47fb02320e5"
   },
   "outputs": [
    {
     "name": "stdout",
     "output_type": "stream",
     "text": [
      "1.558704348\n"
     ]
    },
    {
     "data": {
      "image/png": "[encoded data removed]",
      "text/plain": [
       "<Figure size 648x648 with 1 Axes>"
      ]
     },
     "metadata": {},
     "output_type": "display_data"
    }
   ],
   "source": [
    "Y_dist = []\n",
    "for i in range(1000):\n",
    "  Y = X.rvs(k)[:,1:4]\n",
    "  empirical_third_moment = np.mean((Y.sum(axis=1) - np.mean(Y.sum(axis=1)))**3)\n",
    "  Y_dist.append(empirical_third_moment)\n",
    "\n",
    "pd.DataFrame(Y_dist).hist(bins=100, figsize=(9,9))\n",
    "print(np.mean(Y_dist))"
   ]
  },
  {
   "cell_type": "markdown",
   "metadata": {
    "id": "HOZHuJimv_Wp"
   },
   "source": [
    "As we can see from the histogram, if we repeat the experiment many times it will begin to converge to the theoretical centralized third moment (1.679)."
   ]
  },
  {
   "cell_type": "markdown",
   "metadata": {
    "id": "LupBEuFOwRri"
   },
   "source": [
    "### Question 4 - Covariance and independence"
   ]
  },
  {
   "cell_type": "markdown",
   "metadata": {
    "id": "mMWUYo99wRri"
   },
   "source": [
    "What is the variance of the sum X +Y + Z of three random variables in terms of the variances of X, Y and Z and the covariances between each pair of random variables? What happens if X,Y,Z are pairwise independent? If X,Y,Z are pairwise independent, are they necessarily collectively independent? Prove your answer."
   ]
  },
  {
   "cell_type": "markdown",
   "metadata": {},
   "source": [
    "$$\\text{Let} \\;Var(X+Y+Z)=Var(X+T) \\; \\text{where} \\; T=Y+Z$$\n",
    "\n",
    "$$Var(X+T) = Var(X) + Var(T) + 2Cov(X,T)$$\n",
    "\n",
    "$$= Var(X) + Var(Y+Z) + 2Cov(X,Y+Z)$$\n",
    "\n",
    "$$= Var(X) + Var(Y) + Var(Z) + 2Cov(Y,Z) + 2Cov(X, Y+Z)$$ \n",
    "\n",
    "$$ \\text{Recall and apply the definition of covariance:} \\; Cov(M,N)=E(MN) - E(M)E(N)$$ \n",
    "\n",
    "$$Cov(X, Y+Z) = E(X(Y+Z)) - E(X)E(Y+Z)$$ \n",
    "\n",
    "$$= E(XY + XZ) - E(X)E(Y+Z)$$ \n",
    "\n",
    "$$= E(XY) + E(XZ) - E(X)[E(Y)+E(Z)] \\; \\text{by linearity of expectations} $$\n",
    "\n",
    "$$= E(XY) - E(X)E(Y) + E(XZ) - E(X)E(Z)$$ \n",
    "\n",
    "$$= Cov(X,Y) + Cov(X,Z) \\; \\text{Now plug back into our original expression} $$\n",
    "\n",
    "$$Var(X+Y+Z) = Var(X) + Var(Y) + Var(Z) + 2[Cov(X,Y) + Cov(X,Z) + Cov(Y,Z)]$$ \n",
    "\n",
    "$$\\text{Q.E.D.}$$"
   ]
  },
  {
   "cell_type": "markdown",
   "metadata": {
    "id": "JJmQka79SwPY"
   },
   "source": [
    "If $X,Y,Z$ are pairwise independent, they are not necessarily collectively independent. \\\\\n",
    "Consider the case where $X$, $Y$, and $Z$ represent the number of times the faces of a three-sided die appear within 10 rolls. $X$ refers to the first face, $Y$ the second face, $Z$ the third face. $X$, $Y$, and $Z$ are pairwise independent in this case, meaning if I know that roll six lands on the first face, I don't know which face will land on roll seven. But collectively these variable are dependent. Namely if I know how many times the first or second face shows up out of $10$ rolls, it tells me information about how many times the third face shows up. \n"
   ]
  },
  {
   "cell_type": "markdown",
   "metadata": {
    "id": "ouC_GQyYwRri"
   },
   "source": [
    "### Question 5 - Convolutions"
   ]
  },
  {
   "cell_type": "markdown",
   "metadata": {
    "id": "5sUGUWs5wRri"
   },
   "source": [
    "#### 5.A\n",
    "Write a program, `Q = NFoldConv(P , n)`, that takes as input:\n",
    "* A distribution, P, of a random variable that takes finitely many integer values\n",
    "* An integer n\n",
    "\n",
    "and produces the distribution, Q, of the sum of n independent repeats of random variables, each of which has the distribution P."
   ]
  },
  {
   "cell_type": "code",
   "execution_count": 96,
   "metadata": {
    "id": "oUrT8i9KwRri"
   },
   "outputs": [],
   "source": [
    "def NFoldConv(P,n):\n",
    "    \"\"\"\n",
    "    P = a distribution of a random variable that takes finitely many\n",
    "    integer values as a list with P[0] = the values and P[1] = the distribution\n",
    "    n = an integer\n",
    "    returns distribution Q of the sum of n independent repeats of random variables (each with distribution P)\n",
    "    \"\"\"\n",
    "\n",
    "    if n == 1:\n",
    "        Q = P[1]\n",
    "        return Q\n",
    "    \n",
    "    if n == 2:\n",
    "        Q = np.convolve(P[1],P[1])\n",
    "        return Q\n",
    "    \n",
    "    Q = np.convolve(P[1],P[1])\n",
    "    for i in range(n-2): # start at n-2 two because initializing at the convolution of P with itself (once)\n",
    "        Q = np.convolve(Q, P[1])\n",
    "    return [P[0], Q]"
   ]
  },
  {
   "cell_type": "markdown",
   "metadata": {
    "id": "zhbTjkMXwRrj"
   },
   "source": [
    "#### 5.B\n",
    "Compute the distribution of the sum of the results of rolling a fair octahedron 17 times.\n",
    "\n",
    "<img src=\"https://upload.wikimedia.org/wikipedia/commons/2/27/Octahedron.jpg\" width=\"200\">\n"
   ]
  },
  {
   "cell_type": "code",
   "execution_count": 97,
   "metadata": {
    "colab": {
     "base_uri": "https://localhost:8080/"
    },
    "id": "w91fil-kwRrj",
    "outputId": "91837a31-258e-4ed5-d83c-a153e1bd3b00"
   },
   "outputs": [
    {
     "data": {
      "text/plain": [
       "[[1, 2, 3, 4, 5, 6, 7, 8],\n",
       " array([4.44089210e-16, 7.54951657e-15, 6.79456491e-14, 4.30322444e-13,\n",
       "        2.15161222e-12, 9.03677133e-12, 3.31348282e-11, 1.08871578e-10,\n",
       "        3.26607186e-10, 9.07134812e-10, 2.35772912e-09, 5.78267301e-09,\n",
       "        1.34733957e-08, 2.99840073e-08, 6.40173488e-08, 1.31615841e-07,\n",
       "        2.61380925e-07, 5.02742224e-07, 9.38663699e-07, 1.70459936e-06,\n",
       "        3.01597023e-06, 5.20688185e-06, 8.78316811e-06, 1.44930374e-05,\n",
       "        2.34184931e-05, 3.70901651e-05, 5.76270894e-05, 8.79011761e-05,\n",
       "        1.31723541e-04, 1.94046516e-04, 2.81171100e-04, 4.00945025e-04,\n",
       "        5.62931924e-04, 7.78527660e-04, 1.06099643e-03, 1.42539740e-03,\n",
       "        1.88837308e-03, 2.46777400e-03, 3.18210121e-03, 4.04975813e-03,\n",
       "        5.08811743e-03, 6.31242493e-03, 7.73458068e-03, 9.36185625e-03,\n",
       "        1.11956238e-02, 1.32301865e-02, 1.54518068e-02, 1.78380317e-02,\n",
       "        2.03574043e-02, 2.29696365e-02, 2.56262914e-02, 2.82719922e-02,\n",
       "        3.08461375e-02, 3.32850623e-02, 3.55245473e-02, 3.75025442e-02,\n",
       "        3.91619623e-02, 4.04533435e-02, 4.13372572e-02, 4.17862551e-02,\n",
       "        4.17862551e-02, 4.13372572e-02, 4.04533435e-02, 3.91619623e-02,\n",
       "        3.75025442e-02, 3.55245473e-02, 3.32850623e-02, 3.08461375e-02,\n",
       "        2.82719922e-02, 2.56262914e-02, 2.29696365e-02, 2.03574043e-02,\n",
       "        1.78380317e-02, 1.54518068e-02, 1.32301865e-02, 1.11956238e-02,\n",
       "        9.36185625e-03, 7.73458068e-03, 6.31242493e-03, 5.08811743e-03,\n",
       "        4.04975813e-03, 3.18210121e-03, 2.46777400e-03, 1.88837308e-03,\n",
       "        1.42539740e-03, 1.06099643e-03, 7.78527660e-04, 5.62931924e-04,\n",
       "        4.00945025e-04, 2.81171100e-04, 1.94046516e-04, 1.31723541e-04,\n",
       "        8.79011761e-05, 5.76270894e-05, 3.70901651e-05, 2.34184931e-05,\n",
       "        1.44930374e-05, 8.78316811e-06, 5.20688185e-06, 3.01597023e-06,\n",
       "        1.70459936e-06, 9.38663699e-07, 5.02742224e-07, 2.61380925e-07,\n",
       "        1.31615841e-07, 6.40173488e-08, 2.99840073e-08, 1.34733957e-08,\n",
       "        5.78267301e-09, 2.35772912e-09, 9.07134812e-10, 3.26607186e-10,\n",
       "        1.08871578e-10, 3.31348282e-11, 9.03677133e-12, 2.15161222e-12,\n",
       "        4.30322444e-13, 6.79456491e-14, 7.54951657e-15, 4.44089210e-16])]"
      ]
     },
     "execution_count": 97,
     "metadata": {},
     "output_type": "execute_result"
    }
   ],
   "source": [
    "P = [[1,2,3,4,5,6,7,8],[1/8]*8]\n",
    "NFoldConv(P, 17) "
   ]
  },
  {
   "cell_type": "code",
   "execution_count": 97,
   "metadata": {
    "id": "I2FXUU3BE24n"
   },
   "outputs": [],
   "source": []
  }
 ],
 "metadata": {
  "colab": {
   "collapsed_sections": [],
   "name": "806709 _806646.ipynb",
   "provenance": []
  },
  "interpreter": {
   "hash": "b4df827b5bcb8294dd1750205c75b2cecce4a4113d17a86e5b1a33af92a62c99"
  },
  "kernelspec": {
   "display_name": "Python 3",
   "language": "python",
   "name": "python3"
  },
  "language_info": {
   "codemirror_mode": {
    "name": "ipython",
    "version": 3
   },
   "file_extension": ".py",
   "mimetype": "text/x-python",
   "name": "python",
   "nbconvert_exporter": "python",
   "pygments_lexer": "ipython3",
   "version": "3.8.5"
  }
 },
 "nbformat": 4,
 "nbformat_minor": 1
}
